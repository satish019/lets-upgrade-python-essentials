{
 "cells": [
  {
   "cell_type": "markdown",
   "metadata": {},
   "source": [
    "# Assignment-1:Make a new dictionary in which keys become values and values become keys"
   ]
  },
  {
   "cell_type": "code",
   "execution_count": 1,
   "metadata": {},
   "outputs": [
    {
     "name": "stdout",
     "output_type": "stream",
     "text": [
      "{'FTP': 21, 'SSH': 22, 'telnet': 23, 'http': 80}\n"
     ]
    }
   ],
   "source": [
    "port1 = {21: \"FTP\", 22:\"SSH\", 23: \"telnet\", 80: \"http\"}\n",
    "a=list(port1.keys())\n",
    "b=list(port1.values())\n",
    "port2={b[i]:a[i]  for i in range(len(a)) }\n",
    "print(port2)"
   ]
  },
  {
   "cell_type": "markdown",
   "metadata": {},
   "source": [
    "In this assignment we can conclude that the we can change the dictionary values to keys and vice versa\n",
    "\n",
    "And here the piece of above code shows the keys of dict store in ->a ,and values od dict stored in ->b and then by using comprehension we appiled our logic like keys->values\n"
   ]
  },
  {
   "cell_type": "markdown",
   "metadata": {},
   "source": [
    "# Assignment-2:Make a new list which contains sum of number of tuples"
   ]
  },
  {
   "cell_type": "code",
   "execution_count": 2,
   "metadata": {},
   "outputs": [
    {
     "name": "stdout",
     "output_type": "stream",
     "text": [
      "[8, 9, 12, 19]\n"
     ]
    }
   ],
   "source": [
    "list1=[(5,3),(2,3,4),(6,6),(14,5)]\n",
    "result=[ sum(i)  for i in list1 ]\n",
    "print(result)\n"
   ]
  },
  {
   "cell_type": "markdown",
   "metadata": {},
   "source": [
    "Here in this assignment whatever the tuple size the data is summed and then which is going to stored in var=sum and that i.e assigned to the resultant var(we make the list of 2 r more numbers to find the sum of each tuple...)"
   ]
  },
  {
   "cell_type": "markdown",
   "metadata": {},
   "source": [
    "# Assignment-2:Make a new list which contains sum of number of tuples"
   ]
  },
  {
   "cell_type": "code",
   "execution_count": 3,
   "metadata": {},
   "outputs": [
    {
     "name": "stdout",
     "output_type": "stream",
     "text": [
      "[1, 2, 3, 4, 5, 'asha', 'help', 'python']\n"
     ]
    }
   ],
   "source": [
    "list=[(1,2,3),[4,5],['asha','help','python']]\n",
    "result=[]\n",
    "for i in list: \n",
    "    if type(i)==type(list): \n",
    "        result=result+i\n",
    "    elif type(i)==tuple:\n",
    "        result.extend(i)\n",
    "    else: \n",
    "        result.append(i)\n",
    "\n",
    "print(result)"
   ]
  },
  {
   "cell_type": "markdown",
   "metadata": {},
   "source": [
    "In the above code the list contains the combination of data tuple and list which combines the data together and the resultant data is stored in result var so that possible conditions are as follows each element may be list are tuple.... Finally the resultant list is stored in result list......"
   ]
  },
  {
   "cell_type": "code",
   "execution_count": null,
   "metadata": {},
   "outputs": [],
   "source": []
  }
 ],
 "metadata": {
  "kernelspec": {
   "display_name": "Python 3",
   "language": "python",
   "name": "python3"
  },
  "language_info": {
   "codemirror_mode": {
    "name": "ipython",
    "version": 3
   },
   "file_extension": ".py",
   "mimetype": "text/x-python",
   "name": "python",
   "nbconvert_exporter": "python",
   "pygments_lexer": "ipython3",
   "version": "3.7.1"
  }
 },
 "nbformat": 4,
 "nbformat_minor": 2
}
